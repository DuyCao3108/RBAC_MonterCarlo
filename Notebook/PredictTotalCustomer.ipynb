{
 "cells": [
  {
   "cell_type": "markdown",
   "metadata": {},
   "source": [
    "##### THIS FILE IS USED TO RUN PREDICTION MODEL ON TOTAL NUMBER OF CUSTOMER #####"
   ]
  },
  {
   "cell_type": "code",
   "execution_count": null,
   "metadata": {},
   "outputs": [],
   "source": [
    "import pandas as pd\n",
    "import openpyxl\n",
    "import matplotlib.pyplot as plt\n",
    "import seaborn as sns\n",
    "import numpy as np\n",
    "import tensorflow as tf\n",
    "import math\n",
    "import os\n",
    "from dateutil.relativedelta import relativedelta\n",
    "from sklearn.cluster import KMeans"
   ]
  },
  {
   "cell_type": "code",
   "execution_count": null,
   "metadata": {},
   "outputs": [],
   "source": [
    "# This is used to block warning messages\n",
    "import warnings\n",
    "# Ignore all warnings\n",
    "warnings.filterwarnings(\"ignore\")\n",
    "# Or ignore specific warnings by category (e.g., FutureWarnings)\n",
    "warnings.filterwarnings(\"ignore\", category=FutureWarning)\n",
    "# This is used to edit image\n",
    "from IPython.display import Image\n",
    "from IPython.core.display import HTML "
   ]
  },
  {
   "cell_type": "markdown",
   "metadata": {},
   "source": [
    "## 1 | Prepare input"
   ]
  },
  {
   "cell_type": "code",
   "execution_count": null,
   "metadata": {},
   "outputs": [],
   "source": [
    "df = pd.read_csv(r'C:\\Users\\Admin\\RBAC\\OriDataNew.csv').drop(columns='Unnamed: 0')"
   ]
  },
  {
   "cell_type": "code",
   "execution_count": null,
   "metadata": {},
   "outputs": [],
   "source": [
    "df['TransactionDate'] = pd.to_datetime(df['TransactionDate'])\n",
    "df['Year_week'] = df['TransactionDate'].apply(lambda x: x.strftime(\"%Y-%U\"))"
   ]
  },
  {
   "cell_type": "code",
   "execution_count": null,
   "metadata": {},
   "outputs": [],
   "source": [
    "num_cust_agg = df.drop_duplicates(subset=['Year_week','CustomerID']).groupby('Year_week',as_index=False).agg(Num_Customer= ('CustomerID','count'))"
   ]
  },
  {
   "cell_type": "code",
   "execution_count": null,
   "metadata": {},
   "outputs": [],
   "source": [
    "num_cust_agg = num_cust_agg[num_cust_agg['Year_week']!='2021-39']\n",
    "num_cust_agg"
   ]
  },
  {
   "cell_type": "code",
   "execution_count": null,
   "metadata": {},
   "outputs": [],
   "source": [
    "def window(input_list, window_size, drop_remainder = True):\n",
    "    res_list = []\n",
    "    for i in range(len(input_list)):\n",
    "        if i + window_size <= len(input_list): window = input_list[i: i + window_size]\n",
    "        else: \n",
    "            if drop_remainder == True: continue\n",
    "            else: window = input_list[i:]\n",
    "        res_list.append(window)\n",
    "    return res_list\n",
    "\n",
    "def label_extract(window_list):\n",
    "    window_array = np.array(window_list)\n",
    "    input = np.array(list(map(lambda x: list(x[:-1]), window_array)))\n",
    "    label = np.array(list(map(lambda x: list(x[-1:]), window_array)))\n",
    "    return input, label"
   ]
  },
  {
   "cell_type": "code",
   "execution_count": null,
   "metadata": {},
   "outputs": [],
   "source": [
    "input_list = list(num_cust_agg['Num_Customer'].values)\n",
    "window_size = 4"
   ]
  },
  {
   "cell_type": "code",
   "execution_count": null,
   "metadata": {},
   "outputs": [],
   "source": [
    "window_list = window(input_list = input_list,window_size=window_size)\n",
    "input, label = label_extract(window_list)\n",
    "display(\n",
    "    input,label\n",
    ")"
   ]
  },
  {
   "cell_type": "code",
   "execution_count": null,
   "metadata": {},
   "outputs": [],
   "source": [
    "n_split = math.floor(len(input)*0.8)\n",
    "\n",
    "####\n",
    "train_x = input[:n_split,:]\n",
    "train_y = label[:n_split,:]\n",
    "####\n",
    "valid_x = input[n_split:,:]\n",
    "valid_y = label[n_split:,:]\n",
    "print(\n",
    "    train_x.shape,\n",
    "    train_y.shape,\n",
    "    valid_x.shape,\n",
    "    valid_y.shape\n",
    ")"
   ]
  },
  {
   "cell_type": "markdown",
   "metadata": {},
   "source": [
    "# 2 | Training"
   ]
  },
  {
   "cell_type": "code",
   "execution_count": null,
   "metadata": {},
   "outputs": [],
   "source": [
    "def train_RNN(input, label, window_size):\n",
    "    model = tf.keras.Sequential([\n",
    "        tf.keras.layers.Lambda(lambda x: tf.expand_dims(x, axis=-1), input_shape=[None]),\n",
    "        tf.keras.layers.Bidirectional(tf.keras.layers.LSTM(window_size, return_sequences=True)),\n",
    "        tf.keras.layers.Bidirectional(tf.keras.layers.LSTM(window_size, return_sequences=True)),\n",
    "        tf.keras.layers.Bidirectional(tf.keras.layers.LSTM(window_size, return_sequences=True)),\n",
    "        tf.keras.layers.Bidirectional(tf.keras.layers.LSTM(window_size)),\n",
    "        tf.keras.layers.Dense(64, activation='relu'),\n",
    "        tf.keras.layers.Dense(32, activation='relu'),\n",
    "        tf.keras.layers.Dense(1, activation ='linear')\n",
    "    ])\n",
    "\n",
    "    model.compile(loss=tf.keras.losses.Huber(), optimizer='Adam', metrics=[\"mae\"])\n",
    "\n",
    "    checkpoint_path = os.path.join(os.getcwd(), \"predict_total_cust.ckpt\")\n",
    "    cp_callback = tf.keras.callbacks.ModelCheckpoint(filepath=checkpoint_path,\n",
    "                                                     save_weights_only=True, verbose=1\n",
    "                                                     )\n",
    "\n",
    "    return model, cp_callback\n"
   ]
  },
  {
   "cell_type": "code",
   "execution_count": null,
   "metadata": {},
   "outputs": [],
   "source": [
    "model, cp_callback = train_RNN(input=input,label=label,window_size=window_size)"
   ]
  },
  {
   "cell_type": "code",
   "execution_count": null,
   "metadata": {},
   "outputs": [],
   "source": [
    "# ### THIS CODE WILL TRAIN DATA FOR LSTM MODEL ###\n",
    "\n",
    "# model.fit(\n",
    "#     train_x,\n",
    "#     train_y,\n",
    "#     validation_data = (valid_x, valid_y),\n",
    "#     epochs = 300,\n",
    "#     callbacks = [cp_callback]\n",
    "# )"
   ]
  },
  {
   "cell_type": "code",
   "execution_count": null,
   "metadata": {},
   "outputs": [],
   "source": [
    "def predict_time_series(list_of_val, predict_period, model, window_size):\n",
    "    for period in range(predict_period):\n",
    "        list_of_val_2 = np.expand_dims(np.array(list_of_val),axis=0)\n",
    "        x = list_of_val_2[:,-window_size:]\n",
    "        res = model.predict(x)\n",
    "        ## noise\n",
    "        res_new = ((np.random.randint(1,50)/100)+1)*res[0][0]\n",
    "        list_of_val.append(math.floor(res_new))\n",
    "    return list_of_val"
   ]
  },
  {
   "cell_type": "code",
   "execution_count": null,
   "metadata": {},
   "outputs": [],
   "source": [
    "model.load_weights(os.path.join(os.getcwd(), \"predict_total_cust.ckpt\"))"
   ]
  },
  {
   "cell_type": "code",
   "execution_count": null,
   "metadata": {},
   "outputs": [],
   "source": [
    "predict_period = 24\n",
    "y_pred = predict_time_series(\n",
    "    list_of_val = list(num_cust_agg['Num_Customer'][-window_size+1:].values), \n",
    "    predict_period = predict_period, \n",
    "    model = model, \n",
    "    window_size = window_size\n",
    ")\n",
    "y_pred = y_pred[3:]"
   ]
  },
  {
   "cell_type": "markdown",
   "metadata": {},
   "source": [
    "# 3 | Predicting"
   ]
  },
  {
   "cell_type": "code",
   "execution_count": null,
   "metadata": {},
   "outputs": [],
   "source": [
    "# Get a list of all days\n",
    "def custom_range(start, stop, step=1):\n",
    "    formatted_range = []\n",
    "    for num in range(start, stop, step):\n",
    "        formatted_num = f\"{num:02d}\"\n",
    "        formatted_range.append(formatted_num)\n",
    "    return formatted_range\n",
    "\n",
    "time_stamp_list = []\n",
    "for year in ['2023']:\n",
    "    for week in custom_range(27, 27 + predict_period):\n",
    "        time_stamp_list.append(year + '-' + week)\n",
    "time_stamp_list"
   ]
  },
  {
   "cell_type": "code",
   "execution_count": null,
   "metadata": {},
   "outputs": [],
   "source": [
    "print(\n",
    "    len(y_pred),\n",
    "    len(time_stamp_list)\n",
    ")"
   ]
  },
  {
   "cell_type": "code",
   "execution_count": 173,
   "metadata": {},
   "outputs": [],
   "source": [
    "res_predict = pd.DataFrame({'Year_week':time_stamp_list,'Num_Customer':y_pred})\n",
    "final_output = pd.concat([num_cust_agg,res_predict])\n",
    "# change day\n",
    "final_output_test = final_output.copy()\n",
    "final_output_test['Year_week'] = pd.to_datetime(final_output_test['Year_week'] + '-0', format='%Y-%W-%w')\n",
    "final_output_test['Year_Month'] = final_output_test['Year_week'].dt.to_period('M')\n",
    "final_output_test = final_output_test.drop(['Year_week'], axis=1)\n",
    "final_output_test = final_output_test[['Year_Month','Num_Customer']]\n",
    "final_output_test.to_csv(r'num_cust_predict.csv')"
   ]
  },
  {
   "cell_type": "markdown",
   "metadata": {},
   "source": [
    "# 4 | Distributed for cluster"
   ]
  },
  {
   "cell_type": "code",
   "execution_count": 174,
   "metadata": {},
   "outputs": [
    {
     "data": {
      "text/html": [
       "<div>\n",
       "<style scoped>\n",
       "    .dataframe tbody tr th:only-of-type {\n",
       "        vertical-align: middle;\n",
       "    }\n",
       "\n",
       "    .dataframe tbody tr th {\n",
       "        vertical-align: top;\n",
       "    }\n",
       "\n",
       "    .dataframe thead th {\n",
       "        text-align: right;\n",
       "    }\n",
       "</style>\n",
       "<table border=\"1\" class=\"dataframe\">\n",
       "  <thead>\n",
       "    <tr style=\"text-align: right;\">\n",
       "      <th></th>\n",
       "      <th>BillID</th>\n",
       "      <th>Channel</th>\n",
       "      <th>OrderFrom</th>\n",
       "      <th>TransactionDate</th>\n",
       "      <th>SalesAmount</th>\n",
       "      <th>CustomerID</th>\n",
       "      <th>CustomerGender</th>\n",
       "      <th>VoucherStatus</th>\n",
       "      <th>Province</th>\n",
       "      <th>Year_Month</th>\n",
       "    </tr>\n",
       "  </thead>\n",
       "  <tbody>\n",
       "    <tr>\n",
       "      <th>0</th>\n",
       "      <td>0</td>\n",
       "      <td>Take Away</td>\n",
       "      <td>CALL CENTER</td>\n",
       "      <td>2021-10-01 00:00:00+00:00</td>\n",
       "      <td>296891.0</td>\n",
       "      <td>1753863</td>\n",
       "      <td>Unknown</td>\n",
       "      <td>No</td>\n",
       "      <td>Ho Chi Minh City</td>\n",
       "      <td>2021-10</td>\n",
       "    </tr>\n",
       "    <tr>\n",
       "      <th>1</th>\n",
       "      <td>1</td>\n",
       "      <td>Take Away</td>\n",
       "      <td>STORE</td>\n",
       "      <td>2021-10-01 00:00:00+00:00</td>\n",
       "      <td>301782.0</td>\n",
       "      <td>1124050</td>\n",
       "      <td>Unknown</td>\n",
       "      <td>No</td>\n",
       "      <td>Hanoi</td>\n",
       "      <td>2021-10</td>\n",
       "    </tr>\n",
       "    <tr>\n",
       "      <th>2</th>\n",
       "      <td>2</td>\n",
       "      <td>Take Away</td>\n",
       "      <td>WEBSITE</td>\n",
       "      <td>2021-10-01 00:00:00+00:00</td>\n",
       "      <td>319792.0</td>\n",
       "      <td>1626827</td>\n",
       "      <td>Male</td>\n",
       "      <td>No</td>\n",
       "      <td>Hanoi</td>\n",
       "      <td>2021-10</td>\n",
       "    </tr>\n",
       "    <tr>\n",
       "      <th>3</th>\n",
       "      <td>3</td>\n",
       "      <td>Take Away</td>\n",
       "      <td>STORE</td>\n",
       "      <td>2021-10-01 00:00:00+00:00</td>\n",
       "      <td>424762.0</td>\n",
       "      <td>125643</td>\n",
       "      <td>Male</td>\n",
       "      <td>No</td>\n",
       "      <td>Hanoi</td>\n",
       "      <td>2021-10</td>\n",
       "    </tr>\n",
       "    <tr>\n",
       "      <th>4</th>\n",
       "      <td>4</td>\n",
       "      <td>Delivery</td>\n",
       "      <td>STORE</td>\n",
       "      <td>2021-10-01 00:00:00+00:00</td>\n",
       "      <td>280031.0</td>\n",
       "      <td>2117237</td>\n",
       "      <td>Unknown</td>\n",
       "      <td>No</td>\n",
       "      <td>Hanoi</td>\n",
       "      <td>2021-10</td>\n",
       "    </tr>\n",
       "    <tr>\n",
       "      <th>...</th>\n",
       "      <td>...</td>\n",
       "      <td>...</td>\n",
       "      <td>...</td>\n",
       "      <td>...</td>\n",
       "      <td>...</td>\n",
       "      <td>...</td>\n",
       "      <td>...</td>\n",
       "      <td>...</td>\n",
       "      <td>...</td>\n",
       "      <td>...</td>\n",
       "    </tr>\n",
       "    <tr>\n",
       "      <th>1397504</th>\n",
       "      <td>1397504</td>\n",
       "      <td>Delivery</td>\n",
       "      <td>WEBSITE</td>\n",
       "      <td>2023-07-01 00:00:00+00:00</td>\n",
       "      <td>87103.0</td>\n",
       "      <td>1401593</td>\n",
       "      <td>Unknown</td>\n",
       "      <td>No</td>\n",
       "      <td>Ho Chi Minh City</td>\n",
       "      <td>2023-07</td>\n",
       "    </tr>\n",
       "    <tr>\n",
       "      <th>1397505</th>\n",
       "      <td>1397505</td>\n",
       "      <td>Take Away</td>\n",
       "      <td>STORE</td>\n",
       "      <td>2023-07-01 00:00:00+00:00</td>\n",
       "      <td>278920.0</td>\n",
       "      <td>1322074</td>\n",
       "      <td>Male</td>\n",
       "      <td>No</td>\n",
       "      <td>Hanoi</td>\n",
       "      <td>2023-07</td>\n",
       "    </tr>\n",
       "    <tr>\n",
       "      <th>1397506</th>\n",
       "      <td>1397506</td>\n",
       "      <td>Take Away</td>\n",
       "      <td>WEBSITE</td>\n",
       "      <td>2023-07-01 00:00:00+00:00</td>\n",
       "      <td>364872.0</td>\n",
       "      <td>2038523</td>\n",
       "      <td>Unknown</td>\n",
       "      <td>No</td>\n",
       "      <td>Nothern Provinces</td>\n",
       "      <td>2023-07</td>\n",
       "    </tr>\n",
       "    <tr>\n",
       "      <th>1397507</th>\n",
       "      <td>1397507</td>\n",
       "      <td>Delivery</td>\n",
       "      <td>APP</td>\n",
       "      <td>2023-07-01 00:00:00+00:00</td>\n",
       "      <td>1349201.0</td>\n",
       "      <td>1443231</td>\n",
       "      <td>Male</td>\n",
       "      <td>No</td>\n",
       "      <td>Southern Provinces</td>\n",
       "      <td>2023-07</td>\n",
       "    </tr>\n",
       "    <tr>\n",
       "      <th>1397508</th>\n",
       "      <td>1397508</td>\n",
       "      <td>Take Away</td>\n",
       "      <td>WEBSITE</td>\n",
       "      <td>2023-07-01 00:00:00+00:00</td>\n",
       "      <td>1975739.0</td>\n",
       "      <td>2156739</td>\n",
       "      <td>Male</td>\n",
       "      <td>Yes</td>\n",
       "      <td>Nothern Provinces</td>\n",
       "      <td>2023-07</td>\n",
       "    </tr>\n",
       "  </tbody>\n",
       "</table>\n",
       "<p>1397509 rows × 10 columns</p>\n",
       "</div>"
      ],
      "text/plain": [
       "          BillID    Channel    OrderFrom           TransactionDate  \\\n",
       "0              0  Take Away  CALL CENTER 2021-10-01 00:00:00+00:00   \n",
       "1              1  Take Away        STORE 2021-10-01 00:00:00+00:00   \n",
       "2              2  Take Away      WEBSITE 2021-10-01 00:00:00+00:00   \n",
       "3              3  Take Away        STORE 2021-10-01 00:00:00+00:00   \n",
       "4              4   Delivery        STORE 2021-10-01 00:00:00+00:00   \n",
       "...          ...        ...          ...                       ...   \n",
       "1397504  1397504   Delivery      WEBSITE 2023-07-01 00:00:00+00:00   \n",
       "1397505  1397505  Take Away        STORE 2023-07-01 00:00:00+00:00   \n",
       "1397506  1397506  Take Away      WEBSITE 2023-07-01 00:00:00+00:00   \n",
       "1397507  1397507   Delivery          APP 2023-07-01 00:00:00+00:00   \n",
       "1397508  1397508  Take Away      WEBSITE 2023-07-01 00:00:00+00:00   \n",
       "\n",
       "         SalesAmount  CustomerID CustomerGender VoucherStatus  \\\n",
       "0           296891.0     1753863        Unknown            No   \n",
       "1           301782.0     1124050        Unknown            No   \n",
       "2           319792.0     1626827           Male            No   \n",
       "3           424762.0      125643           Male            No   \n",
       "4           280031.0     2117237        Unknown            No   \n",
       "...              ...         ...            ...           ...   \n",
       "1397504      87103.0     1401593        Unknown            No   \n",
       "1397505     278920.0     1322074           Male            No   \n",
       "1397506     364872.0     2038523        Unknown            No   \n",
       "1397507    1349201.0     1443231           Male            No   \n",
       "1397508    1975739.0     2156739           Male           Yes   \n",
       "\n",
       "                   Province Year_Month  \n",
       "0          Ho Chi Minh City    2021-10  \n",
       "1                     Hanoi    2021-10  \n",
       "2                     Hanoi    2021-10  \n",
       "3                     Hanoi    2021-10  \n",
       "4                     Hanoi    2021-10  \n",
       "...                     ...        ...  \n",
       "1397504    Ho Chi Minh City    2023-07  \n",
       "1397505               Hanoi    2023-07  \n",
       "1397506   Nothern Provinces    2023-07  \n",
       "1397507  Southern Provinces    2023-07  \n",
       "1397508   Nothern Provinces    2023-07  \n",
       "\n",
       "[1397509 rows x 10 columns]"
      ]
     },
     "execution_count": 174,
     "metadata": {},
     "output_type": "execute_result"
    }
   ],
   "source": [
    "df"
   ]
  }
 ],
 "metadata": {
  "kernelspec": {
   "display_name": "Python 3",
   "language": "python",
   "name": "python3"
  },
  "language_info": {
   "codemirror_mode": {
    "name": "ipython",
    "version": 3
   },
   "file_extension": ".py",
   "mimetype": "text/x-python",
   "name": "python",
   "nbconvert_exporter": "python",
   "pygments_lexer": "ipython3",
   "version": "3.11.4"
  }
 },
 "nbformat": 4,
 "nbformat_minor": 2
}
